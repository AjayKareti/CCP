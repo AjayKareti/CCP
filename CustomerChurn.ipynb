
    "# Importing necessary libraries\n",
    "import pandas as pd\n",
    "import numpy as np\n",
    "from sklearn.neighbors import KNeighborsClassifier\n",
    "from sklearn.model_selection import train_test_split\n",
    "from sklearn.metrics import accuracy_score\n",
    "from sklearn import tree\n",
    "from sklearn.tree import DecisionTreeClassifier"
   
    "# Read Data\n",
    "data = pd.read_csv(\"C:/CC/BCCP.csv\")\n",
    "# View the first five columns of dataframe\n",
    "data.head(5)"
  
    "# replace non-numeric values with NaN\n",
    "data[\"country\"] = pd.to_numeric(data[\"country\"], errors=\"coerce\")\n",
    "data[\"gender\"] =pd.to_numeric(data[\"gender\"],errors=\"coerce\")\n",
    "# convert the data type of the column to float\n",
    "data[\"country\"] = data[\"country\"].astype(float)\n",
    "data[\"gender\"] = data[\"gender\"].astype(float)"
  
    "# Split data into X and y\n",
    "X = data.drop(['churn'], axis=1)\n",
    "y = data['churn']"
 
  
    "# split the data into training and test datasets in ratio of 80:20\n",
    "X_train, X_test, y_train, y_test = train_test_split(X, y, test_size=0.3, random_state=42)"
  
       
    "X_train"
  
    
    "X_test"
   
    
     
    "y_train"
  
     
       "DecisionTreeClassifier(random_state=42)"
      
    "# Base Classifier\n",
    "clf = DecisionTreeClassifier(random_state=42)\n",
    "clf.fit(X_train, y_train)"
   
      "Train Score:: 1.000\n",
      "Test Score:: 0.787\n"
     
    "# Make Predictions On Train Data\n",
    "y_train_preds = clf.predict(X_train)\n",
    "train_score = accuracy_score(y_train, y_train_preds)\n",
    "\n",
    "# Make Predictions On Test Data\n",
    "y_test_preds = clf.predict(X_test)\n",
    "test_score = accuracy_score(y_test, y_test_preds)\n",
    "\n",
    "print(\"Train Score:: %.3f\"%train_score)\n",
    "print(\"Test Score:: %.3f\"%test_score)"
   
  
       "DecisionTreeClassifier(max_depth=4, random_state=42)"
     
    "# Classifier with depth = 4\n",
    "clf = DecisionTreeClassifier(max_depth=4,\n",
    "                             random_state=42)\n",
  
    
    "# Make Predictions On Train Data\n",
    "y_train_preds = clf.predict(X_train)\n",
    "train_score = accuracy_score(y_train, y_train_preds)\n",
    "\n",
    "#Make Predictions On Test Data\n",
    "y_test_preds = clf.predict(X_test)\n",
    "test_score = accuracy_score(y_test, y_test_preds)\n",
    "\n",
    "print(\"Train Score:: %.3f\" %train_score)\n",
    "print(\"Test Score:: %.3f\" %test_score)"
   
      "Train Score:: 0.866\n",
      "Test Score:: 0.850\n"
  
    "# Decision Tree Classifier\n",
    "clf = DecisionTreeClassifier(max_depth=7,\n",
    "                             min_samples_split=20,\n",
    "                             random_state=42)\n",
    "clf.fit(X_train, y_train)\n",
    "\n",
    "# Make Predictions On Train Data\n",
    "y_train_preds = clf.predict(X_train)\n",
    "train_score = accuracy_score(y_train, y_train_preds)\n",
    "\n",
    "# On Test Data\n",
    "y_test_preds = clf.predict(X_test)\n",
    "test_score = accuracy_score(y_test, y_test_preds)\n",
    "\n",
    "print(\"Train Score:: %.3f\" %train_score)\n",
    "print(\"Test Score:: %.3f\" %test_score)"
   
      "Train Score:: 0.858\n",
      "Test Score:: 0.861\n"
     
    "# Decision Tree Classifier\n",
    "clf = DecisionTreeClassifier(max_depth=6,\n",
    "                             min_samples_split=20, \n",
    "                             min_samples_leaf=12,\n",
    "                             random_state=0)\n",
    "clf.fit(X_train, y_train)\n",
    "\n",
    "# Make Predictions On Train Data\n",
    "y_train_preds = clf.predict(X_train)\n",
    "train_score = accuracy_score(y_train, y_train_preds)\n",
    "\n",
    "# On Test Data\n",
    "y_test_preds = clf.predict(X_test)\n",
    "test_score = accuracy_score(y_test, y_test_preds)\n",
    "\n",
    "print(\"Train Score:: %.3f\" %train_score)\n",
    "print(\"Test Score:: %.3f\" %test_score)"
   
      "Train Score:: 0.855\n",
      "Test Score:: 0.857\n"
    
    "# Decision Tree Classifier\n",
    "clf = DecisionTreeClassifier(max_depth=5,\n",
    "                             min_samples_split=, \n",
    "                             min_samples_leaf=8,\n",
    "                             random_state=2)\n",
    "clf.fit(X_train, y_train)\n",
    "\n",
    "# Make Predictions On Train Data\n",
    "y_train_preds = clf.predict(X_train)\n",
    "train_score = accuracy_score(y_train, y_train_preds)\n",
    "\n",
    "# On Test Data\n",
    "y_test_preds = clf.predict(X_test)\n",
    "test_score = accuracy_score(y_test, y_test_preds)\n",
    "\n",
    "print(\"Train Score:: %.3f\" %train_score)\n",
    "print(\"Test Score:: %.3f\" %test_score)"

   "Feature Importance:\n",
      "[0.00069179 0.         0.         0.         0.44364587 0.00173203\n",
      " 0.04053206 0.3420865  0.         0.16799141 0.00332034]\n"
    
    "#feature selection\n",
    "fimp = clf.feature_importances_\n",
    "print(f\"Feature Importance:\\n{fimp}\")"
  
